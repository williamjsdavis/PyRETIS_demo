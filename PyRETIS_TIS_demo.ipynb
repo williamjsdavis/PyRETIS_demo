{
  "nbformat": 4,
  "nbformat_minor": 0,
  "metadata": {
    "colab": {
      "name": "PyRETIS_TIS_demo.ipynb",
      "provenance": [],
      "collapsed_sections": [
        "DexK_Tcbd9q7"
      ]
    },
    "kernelspec": {
      "name": "python3",
      "display_name": "Python 3"
    },
    "language_info": {
      "name": "python"
    }
  },
  "cells": [
    {
      "cell_type": "markdown",
      "metadata": {
        "id": "DexK_Tcbd9q7"
      },
      "source": [
        "# PyRETIS demo\n",
        "\n",
        "Py - Python\n",
        "\n",
        "RETIS - Replica Exchange Transition Interface Sampling\n",
        "\n",
        "## Installing and testing\n"
      ]
    },
    {
      "cell_type": "code",
      "metadata": {
        "colab": {
          "base_uri": "https://localhost:8080/"
        },
        "id": "Mw_Tt6yhd851",
        "outputId": "f4e0a2f2-4155-4929-c2ba-562ff324bd16"
      },
      "source": [
        "!python -m pip install pyretis\n",
        "!python -m pip install git+https://github.com/mdtraj/mdtraj.git"
      ],
      "execution_count": 1,
      "outputs": [
        {
          "output_type": "stream",
          "text": [
            "Collecting pyretis\n",
            "  Downloading pyretis-2.5.0-py3-none-any.whl (1.4 MB)\n",
            "\u001b[K     |████████████████████████████████| 1.4 MB 5.0 MB/s \n",
            "\u001b[?25hRequirement already satisfied: tqdm>=4.15.0 in /usr/local/lib/python3.7/dist-packages (from pyretis) (4.41.1)\n",
            "Requirement already satisfied: jinja2>=2.9.6 in /usr/local/lib/python3.7/dist-packages (from pyretis) (2.11.3)\n",
            "Collecting sphinx-bootstrap-theme>=0.6.0\n",
            "  Downloading sphinx-bootstrap-theme-0.7.1.tar.gz (1.2 MB)\n",
            "\u001b[K     |████████████████████████████████| 1.2 MB 20.8 MB/s \n",
            "\u001b[?25hRequirement already satisfied: cython>=0.29 in /usr/local/lib/python3.7/dist-packages (from pyretis) (0.29.23)\n",
            "Requirement already satisfied: scipy>=1.1.0 in /usr/local/lib/python3.7/dist-packages (from pyretis) (1.4.1)\n",
            "Requirement already satisfied: matplotlib>=2.0.2 in /usr/local/lib/python3.7/dist-packages (from pyretis) (3.2.2)\n",
            "Collecting tables>=3.5.1\n",
            "  Downloading tables-3.6.1-cp37-cp37m-manylinux1_x86_64.whl (4.3 MB)\n",
            "\u001b[K     |████████████████████████████████| 4.3 MB 44.1 MB/s \n",
            "\u001b[?25hRequirement already satisfied: sphinx>=1.6.3 in /usr/local/lib/python3.7/dist-packages (from pyretis) (1.8.5)\n",
            "Requirement already satisfied: pandas>=0.23.4 in /usr/local/lib/python3.7/dist-packages (from pyretis) (1.1.5)\n",
            "Collecting colorama>=0.3.9\n",
            "  Downloading colorama-0.4.4-py2.py3-none-any.whl (16 kB)\n",
            "Requirement already satisfied: docutils>=0.14 in /usr/local/lib/python3.7/dist-packages (from pyretis) (0.17.1)\n",
            "Requirement already satisfied: numpy>=1.14.3 in /usr/local/lib/python3.7/dist-packages (from pyretis) (1.19.5)\n",
            "Requirement already satisfied: MarkupSafe>=0.23 in /usr/local/lib/python3.7/dist-packages (from jinja2>=2.9.6->pyretis) (2.0.1)\n",
            "Requirement already satisfied: python-dateutil>=2.1 in /usr/local/lib/python3.7/dist-packages (from matplotlib>=2.0.2->pyretis) (2.8.1)\n",
            "Requirement already satisfied: cycler>=0.10 in /usr/local/lib/python3.7/dist-packages (from matplotlib>=2.0.2->pyretis) (0.10.0)\n",
            "Requirement already satisfied: kiwisolver>=1.0.1 in /usr/local/lib/python3.7/dist-packages (from matplotlib>=2.0.2->pyretis) (1.3.1)\n",
            "Requirement already satisfied: pyparsing!=2.0.4,!=2.1.2,!=2.1.6,>=2.0.1 in /usr/local/lib/python3.7/dist-packages (from matplotlib>=2.0.2->pyretis) (2.4.7)\n",
            "Requirement already satisfied: six in /usr/local/lib/python3.7/dist-packages (from cycler>=0.10->matplotlib>=2.0.2->pyretis) (1.15.0)\n",
            "Requirement already satisfied: pytz>=2017.2 in /usr/local/lib/python3.7/dist-packages (from pandas>=0.23.4->pyretis) (2018.9)\n",
            "Requirement already satisfied: imagesize in /usr/local/lib/python3.7/dist-packages (from sphinx>=1.6.3->pyretis) (1.2.0)\n",
            "Requirement already satisfied: snowballstemmer>=1.1 in /usr/local/lib/python3.7/dist-packages (from sphinx>=1.6.3->pyretis) (2.1.0)\n",
            "Requirement already satisfied: babel!=2.0,>=1.3 in /usr/local/lib/python3.7/dist-packages (from sphinx>=1.6.3->pyretis) (2.9.1)\n",
            "Requirement already satisfied: alabaster<0.8,>=0.7 in /usr/local/lib/python3.7/dist-packages (from sphinx>=1.6.3->pyretis) (0.7.12)\n",
            "Requirement already satisfied: packaging in /usr/local/lib/python3.7/dist-packages (from sphinx>=1.6.3->pyretis) (21.0)\n",
            "Requirement already satisfied: sphinxcontrib-websupport in /usr/local/lib/python3.7/dist-packages (from sphinx>=1.6.3->pyretis) (1.2.4)\n",
            "Requirement already satisfied: requests>=2.0.0 in /usr/local/lib/python3.7/dist-packages (from sphinx>=1.6.3->pyretis) (2.23.0)\n",
            "Requirement already satisfied: setuptools in /usr/local/lib/python3.7/dist-packages (from sphinx>=1.6.3->pyretis) (57.2.0)\n",
            "Requirement already satisfied: Pygments>=2.0 in /usr/local/lib/python3.7/dist-packages (from sphinx>=1.6.3->pyretis) (2.6.1)\n",
            "Requirement already satisfied: chardet<4,>=3.0.2 in /usr/local/lib/python3.7/dist-packages (from requests>=2.0.0->sphinx>=1.6.3->pyretis) (3.0.4)\n",
            "Requirement already satisfied: certifi>=2017.4.17 in /usr/local/lib/python3.7/dist-packages (from requests>=2.0.0->sphinx>=1.6.3->pyretis) (2021.5.30)\n",
            "Requirement already satisfied: idna<3,>=2.5 in /usr/local/lib/python3.7/dist-packages (from requests>=2.0.0->sphinx>=1.6.3->pyretis) (2.10)\n",
            "Requirement already satisfied: urllib3!=1.25.0,!=1.25.1,<1.26,>=1.21.1 in /usr/local/lib/python3.7/dist-packages (from requests>=2.0.0->sphinx>=1.6.3->pyretis) (1.24.3)\n",
            "Requirement already satisfied: numexpr>=2.6.2 in /usr/local/lib/python3.7/dist-packages (from tables>=3.5.1->pyretis) (2.7.3)\n",
            "Requirement already satisfied: sphinxcontrib-serializinghtml in /usr/local/lib/python3.7/dist-packages (from sphinxcontrib-websupport->sphinx>=1.6.3->pyretis) (1.1.5)\n",
            "Building wheels for collected packages: sphinx-bootstrap-theme\n",
            "  Building wheel for sphinx-bootstrap-theme (setup.py) ... \u001b[?25l\u001b[?25hdone\n",
            "  Created wheel for sphinx-bootstrap-theme: filename=sphinx_bootstrap_theme-0.7.1-py3-none-any.whl size=1250234 sha256=7c9b3356a366b88568b9afa55ba48a089a816ebe2ffa0506825c8db75cf1c968\n",
            "  Stored in directory: /root/.cache/pip/wheels/08/be/f3/01d145bc6faf769e37d9fb6f1d2f078bc8cd9725c9d883699c\n",
            "Successfully built sphinx-bootstrap-theme\n",
            "Installing collected packages: tables, sphinx-bootstrap-theme, colorama, pyretis\n",
            "  Attempting uninstall: tables\n",
            "    Found existing installation: tables 3.4.4\n",
            "    Uninstalling tables-3.4.4:\n",
            "      Successfully uninstalled tables-3.4.4\n",
            "Successfully installed colorama-0.4.4 pyretis-2.5.0 sphinx-bootstrap-theme-0.7.1 tables-3.6.1\n",
            "Collecting git+https://github.com/mdtraj/mdtraj.git\n",
            "  Cloning https://github.com/mdtraj/mdtraj.git to /tmp/pip-req-build-ldsgre_q\n",
            "  Running command git clone -q https://github.com/mdtraj/mdtraj.git /tmp/pip-req-build-ldsgre_q\n",
            "  Installing build dependencies ... \u001b[?25l\u001b[?25hdone\n",
            "  Getting requirements to build wheel ... \u001b[?25l\u001b[?25hdone\n",
            "    Preparing wheel metadata ... \u001b[?25l\u001b[?25hdone\n",
            "Requirement already satisfied: scipy in /usr/local/lib/python3.7/dist-packages (from mdtraj==1.9.6) (1.4.1)\n",
            "Requirement already satisfied: pyparsing in /usr/local/lib/python3.7/dist-packages (from mdtraj==1.9.6) (2.4.7)\n",
            "Requirement already satisfied: numpy>=1.6 in /usr/local/lib/python3.7/dist-packages (from mdtraj==1.9.6) (1.19.5)\n",
            "Requirement already satisfied: astunparse in /usr/local/lib/python3.7/dist-packages (from mdtraj==1.9.6) (1.6.3)\n",
            "Requirement already satisfied: six<2.0,>=1.6.1 in /usr/local/lib/python3.7/dist-packages (from astunparse->mdtraj==1.9.6) (1.15.0)\n",
            "Requirement already satisfied: wheel<1.0,>=0.23.0 in /usr/local/lib/python3.7/dist-packages (from astunparse->mdtraj==1.9.6) (0.36.2)\n",
            "Building wheels for collected packages: mdtraj\n",
            "  Building wheel for mdtraj (PEP 517) ... \u001b[?25l\u001b[?25hdone\n",
            "  Created wheel for mdtraj: filename=mdtraj-1.9.6-cp37-cp37m-linux_x86_64.whl size=5514574 sha256=1781fd733cce38a31df50361dd45d5103bef0d7ab084ed5e14156775fcbf1cf9\n",
            "  Stored in directory: /tmp/pip-ephem-wheel-cache-exocl1kb/wheels/f4/91/ae/d52e6bbdfcc227e2ebe76cc2dba181c5905ed9e386fc600a82\n",
            "Successfully built mdtraj\n",
            "Installing collected packages: mdtraj\n",
            "Successfully installed mdtraj-1.9.6\n"
          ],
          "name": "stdout"
        }
      ]
    },
    {
      "cell_type": "code",
      "metadata": {
        "colab": {
          "base_uri": "https://localhost:8080/"
        },
        "id": "czWJA0Omf51G",
        "outputId": "faaa1ca8-6f52-4e17-bea0-b4c8bc5030f1"
      },
      "source": [
        "!python -m unittest discover -v -s test"
      ],
      "execution_count": 2,
      "outputs": [
        {
          "output_type": "stream",
          "text": [
            "test_CleanImport (test.test_support.TestSupport) ... ok\n",
            "test_DirsOnSysPath (test.test_support.TestSupport) ... ok\n",
            "test_HOST (test.test_support.TestSupport) ... ok\n",
            "test_args_from_interpreter_flags (test.test_support.TestSupport) ... ok\n",
            "test_bind_port (test.test_support.TestSupport) ... ok\n",
            "test_captured_stderr (test.test_support.TestSupport) ... ok\n",
            "test_captured_stdin (test.test_support.TestSupport) ... ok\n",
            "test_captured_stdout (test.test_support.TestSupport) ... ok\n",
            "test_change_cwd (test.test_support.TestSupport) ... ok\n",
            "test_change_cwd__chdir_warning (test.test_support.TestSupport)\n",
            "Check the warning message when os.chdir() fails. ... ok\n",
            "test_change_cwd__non_existent_dir (test.test_support.TestSupport)\n",
            "Test passing a non-existent directory. ... ok\n",
            "test_change_cwd__non_existent_dir__quiet_true (test.test_support.TestSupport)\n",
            "Test passing a non-existent directory with quiet=True. ... ok\n",
            "test_check__all__ (test.test_support.TestSupport) ... ok\n",
            "test_check_syntax_error (test.test_support.TestSupport) ... ok\n",
            "test_detect_api_mismatch (test.test_support.TestSupport) ... ok\n",
            "test_detect_api_mismatch__ignore (test.test_support.TestSupport) ... ok\n",
            "test_fd_count (test.test_support.TestSupport) ... ok\n",
            "test_find_unused_port (test.test_support.TestSupport) ... ok\n",
            "test_forget (test.test_support.TestSupport) ... ok\n",
            "test_gc_collect (test.test_support.TestSupport) ... ok\n",
            "test_get_attribute (test.test_support.TestSupport) ... ok\n",
            "test_get_original_stdout (test.test_support.TestSupport) ... skipped 'failing buildbots'\n",
            "test_import_fresh_module (test.test_support.TestSupport) ... ok\n",
            "test_import_module (test.test_support.TestSupport) ... ok\n",
            "test_make_bad_fd (test.test_support.TestSupport) ... ok\n",
            "test_match_test (test.test_support.TestSupport) ... ok\n",
            "test_optim_args_from_interpreter_flags (test.test_support.TestSupport) ... ok\n",
            "test_python_is_optimized (test.test_support.TestSupport) ... ok\n",
            "test_reap_children (test.test_support.TestSupport) ... ok\n",
            "test_rmtree (test.test_support.TestSupport) ... ok\n",
            "test_sortdict (test.test_support.TestSupport) ... ok\n",
            "test_swap_attr (test.test_support.TestSupport) ... ok\n",
            "test_swap_item (test.test_support.TestSupport) ... ok\n",
            "test_temp_cwd (test.test_support.TestSupport) ... ok\n",
            "test_temp_cwd__name_none (test.test_support.TestSupport)\n",
            "Test passing None to temp_cwd(). ... ok\n",
            "test_temp_dir (test.test_support.TestSupport)\n",
            "Test that temp_dir() creates and destroys its directory. ... ok\n",
            "test_temp_dir__existing_dir__quiet_default (test.test_support.TestSupport)\n",
            "Test passing a directory that already exists. ... ok\n",
            "test_temp_dir__existing_dir__quiet_true (test.test_support.TestSupport)\n",
            "Test passing a directory that already exists with quiet=True. ... ok\n",
            "test_temp_dir__forked_child (test.test_support.TestSupport)\n",
            "Test that a forked child process does not remove the directory. ... ok\n",
            "test_temp_dir__path_none (test.test_support.TestSupport)\n",
            "Test passing no path. ... ok\n",
            "test_unlink (test.test_support.TestSupport) ... ok\n",
            "test_unload (test.test_support.TestSupport) ... ok\n",
            "\n",
            "----------------------------------------------------------------------\n",
            "Ran 42 tests in 4.258s\n",
            "\n",
            "OK (skipped=1)\n"
          ],
          "name": "stdout"
        }
      ]
    },
    {
      "cell_type": "markdown",
      "metadata": {
        "id": "3rOuTE7CgUST"
      },
      "source": [
        "# Summary\n",
        "\n",
        "This package does:\n",
        "\n",
        " - Transition Interface Sampling\n",
        "  - Employs both the *shooting* and *time reversal* moves. \n",
        " - Replica Exchange Transition Interface Sampling\n",
        "  - Employs both the *shooting* and *time reversal* moves. In addition, RETIS makes use of the *swapping move*.\n",
        "\n",
        "See [this link](http://www.pyretis.org/current/user/intro.html) for a full summary."
      ]
    },
    {
      "cell_type": "markdown",
      "metadata": {
        "id": "W_m42iMiiuzW"
      },
      "source": [
        "# 1D potential TIS example\n",
        "\n",
        "Using the TIS algorithm, we will compute the rate constant for the transition between the two states. In order to obtain a rate constant, we will have to obtain both the crossing probability and an initial flux. To obtain to the crossing probability, we need to carry out TIS simulations for each path ensemble we define and in order to obtain the initial flux, we will have to carry out a MD simulation. Two kinds of input files are needed.\n",
        "\n",
        "## Setting up the simulation task\n",
        "\n",
        "Here, we are going to do a `tis` simulation and we will do 20000 steps. Since we will be running a path sampling simulation, we will also need to specify the positions of the interfaces we will be using.\n",
        "\n",
        "All this system information is defined in a `.rst` file."
      ]
    },
    {
      "cell_type": "code",
      "metadata": {
        "colab": {
          "base_uri": "https://localhost:8080/"
        },
        "id": "hTxRoVlOj8KJ",
        "outputId": "d86af6dc-d404-453e-f7e1-c69cc7c9db05"
      },
      "source": [
        "%%writefile tis.rst\n",
        "TIS 1D example\n",
        "==============\n",
        "\n",
        "Simulation\n",
        "----------\n",
        "task = tis-multiple\n",
        "steps = 20000\n",
        "interfaces = [-0.9, -0.8, -0.7, -0.6, -0.5, -0.4, -0.3, 1.0]\n",
        "\n",
        "System\n",
        "------\n",
        "units = reduced\n",
        "dimensions = 1\n",
        "temperature = 0.07\n",
        "\n",
        "Box\n",
        "---\n",
        "periodic = [False]\n",
        "\n",
        "Engine\n",
        "------\n",
        "class = Langevin\n",
        "timestep = 0.002\n",
        "gamma = 0.3\n",
        "high_friction = False\n",
        "seed = 0\n",
        "\n",
        "TIS\n",
        "---\n",
        "freq =  0.5\n",
        "maxlength = 20000\n",
        "aimless = True\n",
        "allowmaxlength = False\n",
        "zero_momentum = False\n",
        "rescale_energy = False\n",
        "sigma_v = -1\n",
        "seed = 0\n",
        "\n",
        "Initial-path\n",
        "------------\n",
        "method = kick\n",
        "\n",
        "Particles\n",
        "---------\n",
        "position = {'file': 'initial.xyz'}\n",
        "velocity = {'generate': 'maxwell',\n",
        "            'momentum': False,\n",
        "            'seed': 0}\n",
        "mass = {'Ar': 1.0}\n",
        "name = ['Ar']\n",
        "type = [0]\n",
        "\n",
        "Forcefield\n",
        "----------\n",
        "description = 1D double well\n",
        "\n",
        "Potential\n",
        "---------\n",
        "class = DoubleWell\n",
        "a = 1.0\n",
        "b = 2.0\n",
        "c = 0.0\n",
        "\n",
        "Orderparameter\n",
        "--------------\n",
        "class = Position\n",
        "dim = x\n",
        "index = 0\n",
        "periodic = False\n",
        "\n",
        "Output\n",
        "------\n",
        "energy-file = 100\n",
        "order-file = 100\n",
        "trajectory-file = 100"
      ],
      "execution_count": 3,
      "outputs": [
        {
          "output_type": "stream",
          "text": [
            "Writing tis.rst\n"
          ],
          "name": "stdout"
        }
      ]
    },
    {
      "cell_type": "markdown",
      "metadata": {
        "id": "LGENYgtOlblB"
      },
      "source": [
        "We also need a `.xyz` configuration file."
      ]
    },
    {
      "cell_type": "code",
      "metadata": {
        "colab": {
          "base_uri": "https://localhost:8080/"
        },
        "id": "nffH8vA4lga6",
        "outputId": "890e47b7-d2ee-4c90-929c-eb929919e0be"
      },
      "source": [
        "%%writefile initial.xyz\n",
        "1\n",
        "\n",
        "Ar -1.0 0.0 0.0"
      ],
      "execution_count": 4,
      "outputs": [
        {
          "output_type": "stream",
          "text": [
            "Writing initial.xyz\n"
          ],
          "name": "stdout"
        }
      ]
    },
    {
      "cell_type": "code",
      "metadata": {
        "colab": {
          "base_uri": "https://localhost:8080/"
        },
        "id": "2DsJ_akRgFhn",
        "outputId": "eea0280f-5560-4a39-c27b-024179ed5a79"
      },
      "source": [
        "!mkdir TIS-1D/\n",
        "!mv tis.rst TIS-1D/\n",
        "!mv initial.xyz TIS-1D/\n",
        "!ls TIS-1D/"
      ],
      "execution_count": 5,
      "outputs": [
        {
          "output_type": "stream",
          "text": [
            "initial.xyz  tis.rst\n"
          ],
          "name": "stdout"
        }
      ]
    },
    {
      "cell_type": "markdown",
      "metadata": {
        "id": "1HgsGoTClzyb"
      },
      "source": [
        "## Running the simulation\n",
        "\n",
        "The simulation is run in two steps. First,the input TIS files are created for each path ensemble. "
      ]
    },
    {
      "cell_type": "code",
      "metadata": {
        "colab": {
          "base_uri": "https://localhost:8080/"
        },
        "id": "xFYJiecnktFK",
        "outputId": "119c4095-3385-4a86-91e0-4de58b1952b0"
      },
      "source": [
        "%cd TIS-1D/\n",
        "!pyretisrun -i tis.rst\n",
        "%cd .."
      ],
      "execution_count": 6,
      "outputs": [
        {
          "output_type": "stream",
          "text": [
            "/content/TIS-1D\n",
            "\u001b[36m\n",
            "  _______                                     ___________\n",
            " /   ___ \\         ___  ____  ____________   / __     __/\n",
            "/_/\\ \\_/ /_  __   / _ \\/ __/ /_  _/ / ___/  /_/ / // /\n",
            "   /  __  / / /  / /_)  _/    / // /\\ \\        / // /\n",
            "  / /   \\ \\/ /  / _  \\ /__   / // /__\\ \\    __/ // /__\n",
            " /_/    _\\  /  /_/ |_|___/  /_//_/_____/   /_________/\n",
            "       /___/\n",
            "\u001b[0m\n",
            "\u001b[0m\u001b[36mPyRETIS version: 2.5.0\u001b[0m\n",
            "\u001b[0m\u001b[36mStart of execution: 29.07.2021 17:07:54\u001b[0m\n",
            "\u001b[0m\u001b[36mPython version: 3.7.11\u001b[0m\n",
            "\u001b[0m\n",
            "Running in directory: /content/TIS-1D\u001b[0m\n",
            "\u001b[0mInput file: tis.rst\u001b[0m\n",
            "\u001b[0mLog file: pyretis.log\u001b[0m\n",
            "\u001b[0m\u001b[34m\n",
            "Reading input settings from: tis.rst\u001b[0m\n",
            "\u001b[0m\u001b[32m\n",
            "Setting up simulation\u001b[0m\n",
            "\u001b[0m* Created units: \"reduced\".\u001b[0m\n",
            "\u001b[0m* Created engine: \"Langevin MD integrator\".\u001b[0m\n",
            "\u001b[0m* Set up and create system.\u001b[0m\n",
            "\u001b[0m* Set up and create force field.\u001b[0m\n",
            "\u001b[0m* Set up and create simulation.\u001b[0m\n",
            "\u001b[0m\u001b[32mWill run simulation \"tis-multiple\".\u001b[0m\n",
            "\u001b[0m\n",
            "Full settings used for simulation written to: out.rst\u001b[0m\n",
            "\u001b[0m\n",
            "\u001b[0mInput settings requests: TIS for multiple path ensembles.\u001b[0m\n",
            "\u001b[0mWill create input files for the TIS simulations and exit\u001b[0m\n",
            "\u001b[0m\n",
            "\u001b[0mCreating input for TIS ensemble: 1\u001b[0m\n",
            "\u001b[0mCommand for executing:\u001b[0m\n",
            "\u001b[0m\u001b[36mpyretisrun -i tis-001.rst -p -f 001.log\u001b[0m\n",
            "\u001b[0m\n",
            "\u001b[0mCreating input for TIS ensemble: 2\u001b[0m\n",
            "\u001b[0mCommand for executing:\u001b[0m\n",
            "\u001b[0m\u001b[36mpyretisrun -i tis-002.rst -p -f 002.log\u001b[0m\n",
            "\u001b[0m\n",
            "\u001b[0mCreating input for TIS ensemble: 3\u001b[0m\n",
            "\u001b[0mCommand for executing:\u001b[0m\n",
            "\u001b[0m\u001b[36mpyretisrun -i tis-003.rst -p -f 003.log\u001b[0m\n",
            "\u001b[0m\n",
            "\u001b[0mCreating input for TIS ensemble: 4\u001b[0m\n",
            "\u001b[0mCommand for executing:\u001b[0m\n",
            "\u001b[0m\u001b[36mpyretisrun -i tis-004.rst -p -f 004.log\u001b[0m\n",
            "\u001b[0m\n",
            "\u001b[0mCreating input for TIS ensemble: 5\u001b[0m\n",
            "\u001b[0mCommand for executing:\u001b[0m\n",
            "\u001b[0m\u001b[36mpyretisrun -i tis-005.rst -p -f 005.log\u001b[0m\n",
            "\u001b[0m\n",
            "\u001b[0mCreating input for TIS ensemble: 6\u001b[0m\n",
            "\u001b[0mCommand for executing:\u001b[0m\n",
            "\u001b[0m\u001b[36mpyretisrun -i tis-006.rst -p -f 006.log\u001b[0m\n",
            "\u001b[0m\n",
            "\u001b[0mCreating input for TIS ensemble: 7\u001b[0m\n",
            "\u001b[0mCommand for executing:\u001b[0m\n",
            "\u001b[0m\u001b[36mpyretisrun -i tis-007.rst -p -f 007.log\u001b[0m\n",
            "\u001b[0m\n",
            "\u001b[0m\n",
            "Full settings used for simulation written to: out.rst\u001b[0m\n",
            "\u001b[0m\u001b[34mEnd of PyRETIS execution: 29.07.2021 17:07:54\u001b[0m\n",
            "\u001b[0m\n",
            "\u001b[0mPyRETIS references:\n",
            "-------------------\n",
            "[1] A. Lervik, E. Riccardi and T. S. van Erp, J. Comput. Chem., 2017\n",
            "    doi: https://dx.doi.org/10.1002/jcc.24900\n",
            "[2] E. Riccardi, A. Lervik, S. Roet, O. Aarøen and T. S. van Erp,\n",
            "    J. Comput. Chem., 2019, doi: https://dx.doi.org/10.1002/jcc.26112\u001b[0m\n",
            "\u001b[0m\n",
            "\u001b[0m\u001b[34mhttp://www.pyretis.org\u001b[0m\n",
            "\u001b[0m\u001b[0m/content\n"
          ],
          "name": "stdout"
        }
      ]
    },
    {
      "cell_type": "markdown",
      "metadata": {
        "id": "xKn40IXqn806"
      },
      "source": [
        "Files named `tis-001.rst`, `tis-002.rst` and so on are created. Each one of these files defines a TIS simulation for a specific path ensemble."
      ]
    },
    {
      "cell_type": "code",
      "metadata": {
        "colab": {
          "base_uri": "https://localhost:8080/"
        },
        "id": "dir6TSIfnU3a",
        "outputId": "0013a4ab-b0ed-43f1-bba0-83a8c9126eb8"
      },
      "source": [
        "!ls TIS-1D"
      ],
      "execution_count": 7,
      "outputs": [
        {
          "output_type": "stream",
          "text": [
            "initial.xyz  pyretis.log  tis-002.rst  tis-004.rst  tis-006.rst  tis.rst\n",
            "out.rst      tis-001.rst  tis-003.rst  tis-005.rst  tis-007.rst\n"
          ],
          "name": "stdout"
        }
      ]
    },
    {
      "cell_type": "markdown",
      "metadata": {
        "id": "RrgJU-UavsUb"
      },
      "source": [
        "The nest step is to run the PyRETIS TIS simulations for each path ensemble. The individual TIS simulations can be executed by running the `pyretisrun` command. Note: this takes 30-60 minutes for each file, however it can be performed in parallel (not done here)."
      ]
    },
    {
      "cell_type": "code",
      "metadata": {
        "colab": {
          "base_uri": "https://localhost:8080/"
        },
        "id": "s14v9zNGnzRB",
        "outputId": "916772e3-43fb-4ed4-d9be-8e4db4a909c0"
      },
      "source": [
        "%cd TIS-1D/\n",
        "#!pyretisrun -i tis-001.rst -p -f 001.log\n",
        "#!pyretisrun -i tis-002.rst -p -f 002.log\n",
        "#!pyretisrun -i tis-003.rst -p -f 003.log\n",
        "#!pyretisrun -i tis-004.rst -p -f 004.log\n",
        "#!pyretisrun -i tis-005.rst -p -f 005.log\n",
        "#!pyretisrun -i tis-006.rst -p -f 006.log\n",
        "#!pyretisrun -i tis-007.rst -p -f 007.log\n",
        "%cd .."
      ],
      "execution_count": 8,
      "outputs": [
        {
          "output_type": "stream",
          "text": [
            "/content/TIS-1D\n",
            "/content\n"
          ],
          "name": "stdout"
        }
      ]
    },
    {
      "cell_type": "markdown",
      "metadata": {
        "id": "AQZohAIzvQ_l"
      },
      "source": [
        "Instead we will cheat and use some files Will has precomputed :o"
      ]
    },
    {
      "cell_type": "code",
      "metadata": {
        "colab": {
          "base_uri": "https://localhost:8080/"
        },
        "id": "3oO8lxQzvPrC",
        "outputId": "1f8cf45d-dbee-4321-d28a-49dbb580050a"
      },
      "source": [
        "%cd TIS-1D/\n",
        "!git clone https://github.com/williamjsdavis/PyRETIS_demo\n",
        "!unzip PyRETIS_demo/001.zip\n",
        "!unzip PyRETIS_demo/002.zip\n",
        "!unzip PyRETIS_demo/003.zip\n",
        "!unzip PyRETIS_demo/004.zip\n",
        "!unzip PyRETIS_demo/005.zip\n",
        "!unzip PyRETIS_demo/006.zip\n",
        "!unzip PyRETIS_demo/007.zip\n",
        "!unzip PyRETIS_demo/out.zip\n",
        "!unzip PyRETIS_demo/flux.zip\n",
        "!mv out/* .\n",
        "%cd .."
      ],
      "execution_count": 8,
      "outputs": [
        {
          "output_type": "stream",
          "text": [
            "/content/TIS-1D\n",
            "Cloning into 'PyRETIS_demo'...\n",
            "remote: Enumerating objects: 21, done.\u001b[K\n",
            "remote: Counting objects: 100% (21/21), done.\u001b[K\n",
            "remote: Compressing objects: 100% (19/19), done.\u001b[K\n",
            "remote: Total 21 (delta 4), reused 0 (delta 0), pack-reused 0\u001b[K\n",
            "Unpacking objects: 100% (21/21), done.\n",
            "Archive:  PyRETIS_demo/001.zip\n",
            "   creating: 001/\n",
            "  inflating: 001/.DS_Store           \n",
            "   creating: __MACOSX/\n",
            "   creating: __MACOSX/001/\n",
            "  inflating: __MACOSX/001/._.DS_Store  \n",
            "   creating: 001/accepted/\n",
            "  inflating: __MACOSX/001/._accepted  \n",
            "  inflating: 001/energy.txt          \n",
            "  inflating: __MACOSX/001/._energy.txt  \n",
            "  inflating: 001/ensemble.restart    \n",
            "  inflating: __MACOSX/001/._ensemble.restart  \n",
            "   creating: 001/generate/\n",
            "  inflating: __MACOSX/001/._generate  \n",
            "  inflating: 001/order.txt           \n",
            "  inflating: __MACOSX/001/._order.txt  \n",
            "  inflating: 001/pathensemble.txt    \n",
            "  inflating: __MACOSX/001/._pathensemble.txt  \n",
            "   creating: 001/traj/\n",
            "  inflating: __MACOSX/001/._traj     \n",
            "  inflating: 001/traj.txt            \n",
            "  inflating: __MACOSX/001/._traj.txt  \n",
            "  inflating: __MACOSX/._001          \n",
            "Archive:  PyRETIS_demo/002.zip\n",
            "   creating: 002/\n",
            "   creating: 002/accepted/\n",
            "   creating: __MACOSX/002/\n",
            "  inflating: __MACOSX/002/._accepted  \n",
            "  inflating: 002/energy.txt          \n",
            "  inflating: __MACOSX/002/._energy.txt  \n",
            "  inflating: 002/ensemble.restart    \n",
            "  inflating: __MACOSX/002/._ensemble.restart  \n",
            "   creating: 002/generate/\n",
            "  inflating: __MACOSX/002/._generate  \n",
            "  inflating: 002/order.txt           \n",
            "  inflating: __MACOSX/002/._order.txt  \n",
            "  inflating: 002/pathensemble.txt    \n",
            "  inflating: __MACOSX/002/._pathensemble.txt  \n",
            "   creating: 002/traj/\n",
            "  inflating: __MACOSX/002/._traj     \n",
            "  inflating: 002/traj.txt            \n",
            "  inflating: __MACOSX/002/._traj.txt  \n",
            "  inflating: __MACOSX/._002          \n",
            "Archive:  PyRETIS_demo/003.zip\n",
            "   creating: 003/\n",
            "   creating: 003/accepted/\n",
            "   creating: __MACOSX/003/\n",
            "  inflating: __MACOSX/003/._accepted  \n",
            "  inflating: 003/energy.txt          \n",
            "  inflating: __MACOSX/003/._energy.txt  \n",
            "  inflating: 003/ensemble.restart    \n",
            "  inflating: __MACOSX/003/._ensemble.restart  \n",
            "   creating: 003/generate/\n",
            "  inflating: __MACOSX/003/._generate  \n",
            "  inflating: 003/order.txt           \n",
            "  inflating: __MACOSX/003/._order.txt  \n",
            "  inflating: 003/pathensemble.txt    \n",
            "  inflating: __MACOSX/003/._pathensemble.txt  \n",
            "   creating: 003/traj/\n",
            "  inflating: __MACOSX/003/._traj     \n",
            "  inflating: 003/traj.txt            \n",
            "  inflating: __MACOSX/003/._traj.txt  \n",
            "  inflating: __MACOSX/._003          \n",
            "Archive:  PyRETIS_demo/004.zip\n",
            "   creating: 004/\n",
            "   creating: 004/accepted/\n",
            "   creating: __MACOSX/004/\n",
            "  inflating: __MACOSX/004/._accepted  \n",
            "  inflating: 004/energy.txt          \n",
            "  inflating: __MACOSX/004/._energy.txt  \n",
            "  inflating: 004/ensemble.restart    \n",
            "  inflating: __MACOSX/004/._ensemble.restart  \n",
            "   creating: 004/generate/\n",
            "  inflating: __MACOSX/004/._generate  \n",
            "  inflating: 004/order.txt           \n",
            "  inflating: __MACOSX/004/._order.txt  \n",
            "  inflating: 004/pathensemble.txt    \n",
            "  inflating: __MACOSX/004/._pathensemble.txt  \n",
            "   creating: 004/traj/\n",
            "  inflating: __MACOSX/004/._traj     \n",
            "  inflating: 004/traj.txt            \n",
            "  inflating: __MACOSX/004/._traj.txt  \n",
            "  inflating: __MACOSX/._004          \n",
            "Archive:  PyRETIS_demo/005.zip\n",
            "   creating: 005/\n",
            "   creating: 005/accepted/\n",
            "   creating: __MACOSX/005/\n",
            "  inflating: __MACOSX/005/._accepted  \n",
            "  inflating: 005/energy.txt          \n",
            "  inflating: __MACOSX/005/._energy.txt  \n",
            "  inflating: 005/ensemble.restart    \n",
            "  inflating: __MACOSX/005/._ensemble.restart  \n",
            "   creating: 005/generate/\n",
            "  inflating: __MACOSX/005/._generate  \n",
            "  inflating: 005/order.txt           \n",
            "  inflating: __MACOSX/005/._order.txt  \n",
            "  inflating: 005/pathensemble.txt    \n",
            "  inflating: __MACOSX/005/._pathensemble.txt  \n",
            "   creating: 005/traj/\n",
            "  inflating: __MACOSX/005/._traj     \n",
            "  inflating: 005/traj.txt            \n",
            "  inflating: __MACOSX/005/._traj.txt  \n",
            "  inflating: __MACOSX/._005          \n",
            "Archive:  PyRETIS_demo/006.zip\n",
            "   creating: 006/\n",
            "   creating: 006/accepted/\n",
            "   creating: __MACOSX/006/\n",
            "  inflating: __MACOSX/006/._accepted  \n",
            "  inflating: 006/energy.txt          \n",
            "  inflating: __MACOSX/006/._energy.txt  \n",
            "  inflating: 006/ensemble.restart    \n",
            "  inflating: __MACOSX/006/._ensemble.restart  \n",
            "   creating: 006/generate/\n",
            "  inflating: __MACOSX/006/._generate  \n",
            "  inflating: 006/order.txt           \n",
            "  inflating: __MACOSX/006/._order.txt  \n",
            "  inflating: 006/pathensemble.txt    \n",
            "  inflating: __MACOSX/006/._pathensemble.txt  \n",
            "   creating: 006/traj/\n",
            "  inflating: __MACOSX/006/._traj     \n",
            "  inflating: 006/traj.txt            \n",
            "  inflating: __MACOSX/006/._traj.txt  \n",
            "  inflating: __MACOSX/._006          \n",
            "Archive:  PyRETIS_demo/007.zip\n",
            "   creating: 007/\n",
            "   creating: 007/accepted/\n",
            "   creating: __MACOSX/007/\n",
            "  inflating: __MACOSX/007/._accepted  \n",
            "  inflating: 007/energy.txt          \n",
            "  inflating: __MACOSX/007/._energy.txt  \n",
            "  inflating: 007/ensemble.restart    \n",
            "  inflating: __MACOSX/007/._ensemble.restart  \n",
            "   creating: 007/generate/\n",
            "  inflating: __MACOSX/007/._generate  \n",
            "  inflating: 007/order.txt           \n",
            "  inflating: __MACOSX/007/._order.txt  \n",
            "  inflating: 007/pathensemble.txt    \n",
            "  inflating: __MACOSX/007/._pathensemble.txt  \n",
            "   creating: 007/traj/\n",
            "  inflating: __MACOSX/007/._traj     \n",
            "  inflating: 007/traj.txt            \n",
            "  inflating: __MACOSX/007/._traj.txt  \n",
            "  inflating: __MACOSX/._007          \n",
            "Archive:  PyRETIS_demo/out.zip\n",
            "   creating: out/\n",
            "  inflating: out/out.rst             \n",
            "   creating: __MACOSX/out/\n",
            "  inflating: __MACOSX/out/._out.rst  \n",
            " extracting: out/out.rst_000         \n",
            "  inflating: __MACOSX/out/._out.rst_000  \n",
            "  inflating: out/out.rst_001         \n",
            "  inflating: __MACOSX/out/._out.rst_001  \n",
            "  inflating: out/out.rst_002         \n",
            "  inflating: __MACOSX/out/._out.rst_002  \n",
            "  inflating: out/out.rst_003         \n",
            "  inflating: __MACOSX/out/._out.rst_003  \n",
            "  inflating: out/out.rst_004         \n",
            "  inflating: __MACOSX/out/._out.rst_004  \n",
            "  inflating: out/out.rst_005         \n",
            "  inflating: __MACOSX/out/._out.rst_005  \n",
            "  inflating: out/out.rst_006         \n",
            "  inflating: __MACOSX/out/._out.rst_006  \n",
            "  inflating: out/out.rst_007         \n",
            "  inflating: __MACOSX/out/._out.rst_007  \n",
            "  inflating: out/out.rst_008         \n",
            "  inflating: __MACOSX/out/._out.rst_008  \n",
            "  inflating: __MACOSX/._out          \n",
            "Archive:  PyRETIS_demo/flux.zip\n",
            "   creating: flux/\n",
            "  inflating: flux/cross.txt          \n",
            "   creating: __MACOSX/flux/\n",
            "  inflating: __MACOSX/flux/._cross.txt  \n",
            "  inflating: flux/energy.txt         \n",
            "  inflating: __MACOSX/flux/._energy.txt  \n",
            "  inflating: flux/order.txt          \n",
            "  inflating: __MACOSX/flux/._order.txt  \n",
            "  inflating: flux/out.rst            \n",
            "  inflating: __MACOSX/flux/._out.rst  \n",
            "  inflating: __MACOSX/._flux         \n",
            "/content\n"
          ],
          "name": "stdout"
        }
      ]
    },
    {
      "cell_type": "markdown",
      "metadata": {
        "id": "iU1EriMs3o0F"
      },
      "source": [
        "## Analysing the results\n",
        "\n",
        "When the all the TIS simulations are finished, we can analyse the results. PyRETIS will create a file, `out.rst_000`, which you can use for the analysis. This is a copy of the input `tis.rst` with some additional settings for the analysis.\n",
        "\n",
        "The analysis itself is performed using the command"
      ]
    },
    {
      "cell_type": "code",
      "metadata": {
        "colab": {
          "base_uri": "https://localhost:8080/"
        },
        "id": "iT4jAUqIkwGB",
        "outputId": "3ac15027-b1fe-4290-98e5-738b0eeb1c18"
      },
      "source": [
        "!ls TIS-1D"
      ],
      "execution_count": 9,
      "outputs": [
        {
          "output_type": "stream",
          "text": [
            "001  006\t  out\t       out.rst_003  out.rst_008   tis-003.rst  tis.rst\n",
            "002  007\t  out.rst      out.rst_004  PyRETIS_demo  tis-004.rst\n",
            "003  flux\t  out.rst_000  out.rst_005  pyretis.log   tis-005.rst\n",
            "004  initial.xyz  out.rst_001  out.rst_006  tis-001.rst   tis-006.rst\n",
            "005  __MACOSX\t  out.rst_002  out.rst_007  tis-002.rst   tis-007.rst\n"
          ],
          "name": "stdout"
        }
      ]
    },
    {
      "cell_type": "code",
      "metadata": {
        "colab": {
          "base_uri": "https://localhost:8080/"
        },
        "id": "Ie4Wk3uMnAAf",
        "outputId": "d23a9fc9-a691-4c8f-802d-01e0c958261d"
      },
      "source": [
        "%cd TIS-1D/\n",
        "!pyretisanalyse -i out.rst_001\n",
        "%cd .."
      ],
      "execution_count": 10,
      "outputs": [
        {
          "output_type": "stream",
          "text": [
            "/content/TIS-1D\n",
            "\u001b[36m\n",
            "  _______                                     ___________\n",
            " /   ___ \\         ___  ____  ____________   / __     __/\n",
            "/_/\\ \\_/ /_  __   / _ \\/ __/ /_  _/ / ___/  /_/ / // /\n",
            "   /  __  / / /  / /_)  _/    / // /\\ \\        / // /\n",
            "  / /   \\ \\/ /  / _  \\ /__   / // /__\\ \\    __/ // /__\n",
            " /_/    _\\  /  /_/ |_|___/  /_//_/_____/   /_________/\n",
            "       /___/\n",
            "\n",
            "                                                    Starting\n",
            "analysis tool!\n",
            "PyRETIS version: 2.5.0\n",
            "Python version: 3.7.11\n",
            "Running in directory: /content/TIS-1D\n",
            "Report directory: /content/TIS-1D/report\n",
            "Input file: out.rst_001\u001b[0m\n",
            "\u001b[0mReading input file \"out.rst_001\"\u001b[0m\n",
            "[WARNING]: Ignoring unknown \"exe-path\" in \"simulation\"\n",
            "\u001b[0m\u001b[0mCreated directory: \"/content/TIS-1D/report\"\u001b[0m\n",
            "\u001b[0mSimulation task was: \"tis-multiple\"\u001b[0m\n",
            "\u001b[0m\n",
            "\u001b[0m\u001b[33mInitial flux is not calculated here.\n",
            "Remember to calculate this separately!\u001b[0m\n",
            "\u001b[0m\u001b[34mAnalysing ensemble 1 of 7\u001b[0m\n",
            "\u001b[0m\n",
            "\u001b[0mTIS results for ensemble: [0^+]\n",
            "===============================\n",
            "\n",
            "+------------------------------------------------------+\n",
            "|Interfaces                                            |\n",
            "+----------+----------+----------+----------+----------+\n",
            "| Ensemble |   Left   |  Middle  |  Right   |  Detect  |\n",
            "+==========+==========+==========+==========+==========+\n",
            "|  [0^+]   | -0.9000  | -0.9000  |  1.0000  | -0.8000  |\n",
            "+----------+----------+----------+----------+----------+\n",
            "\n",
            "+-----------------------------------------------------+\n",
            "|Probabilities                                        |\n",
            "+----------+------------+------------+----------------+\n",
            "| Ensemble |   Pcross   |   Error    | Rel. error (%) |\n",
            "+==========+============+============+================+\n",
            "|  [0^+]   |  0.254537  |  0.007779  |    3.056656    |\n",
            "+----------+------------+------------+----------------+\n",
            "\n",
            "+---------------------------------------------------+\n",
            "|Path lengths                                       |\n",
            "+----------+------------+------------+--------------+\n",
            "| Ensemble |  Accepted  |    All     | All/Accepted |\n",
            "+==========+============+============+==============+\n",
            "|  [0^+]   | 339.917050 | 175.719850 |   0.516949   |\n",
            "+----------+------------+------------+--------------+\n",
            "\n",
            "+----------------------------------------------------------------------------------+\n",
            "|Efficiency                                                                        |\n",
            "+----------+------------+------------+------------------+-------------+------------+\n",
            "| Ensemble | TIS cycles |  Tot sim.  | Acceptance ratio | Correlation | Efficiency |\n",
            "+==========+============+============+==================+=============+============+\n",
            "|  [0^+]   |   20001    | 3.5146e+06 |     0.906655     |  6.378837   | 3.2837e+03 |\n",
            "+----------+------------+------------+------------------+-------------+------------+\u001b[0m\n",
            "\u001b[0m\n",
            "\u001b[0m\u001b[34mAnalysing ensemble 2 of 7\u001b[0m\n",
            "\u001b[0m\n",
            "\u001b[0mTIS results for ensemble: [1^+]\n",
            "===============================\n",
            "\n",
            "+------------------------------------------------------+\n",
            "|Interfaces                                            |\n",
            "+----------+----------+----------+----------+----------+\n",
            "| Ensemble |   Left   |  Middle  |  Right   |  Detect  |\n",
            "+==========+==========+==========+==========+==========+\n",
            "|  [1^+]   | -0.9000  | -0.8000  |  1.0000  | -0.7000  |\n",
            "+----------+----------+----------+----------+----------+\n",
            "\n",
            "+-----------------------------------------------------+\n",
            "|Probabilities                                        |\n",
            "+----------+------------+------------+----------------+\n",
            "| Ensemble |   Pcross   |   Error    | Rel. error (%) |\n",
            "+==========+============+============+================+\n",
            "|  [1^+]   |  0.152442  |  0.007924  |    5.196568    |\n",
            "+----------+------------+------------+----------------+\n",
            "\n",
            "+---------------------------------------------------+\n",
            "|Path lengths                                       |\n",
            "+----------+------------+------------+--------------+\n",
            "| Ensemble |  Accepted  |    All     | All/Accepted |\n",
            "+==========+============+============+==============+\n",
            "|  [1^+]   | 507.975144 | 233.400700 |   0.459473   |\n",
            "+----------+------------+------------+--------------+\n",
            "\n",
            "+----------------------------------------------------------------------------------+\n",
            "|Efficiency                                                                        |\n",
            "+----------+------------+------------+------------------+-------------+------------+\n",
            "| Ensemble | TIS cycles |  Tot sim.  | Acceptance ratio | Correlation | Efficiency |\n",
            "+==========+============+============+==================+=============+============+\n",
            "|  [1^+]   |   20001    | 4.6682e+06 |     0.808260     |  9.714560   | 1.2606e+04 |\n",
            "+----------+------------+------------+------------------+-------------+------------+\u001b[0m\n",
            "\u001b[0m\n",
            "\u001b[0m\u001b[34mAnalysing ensemble 3 of 7\u001b[0m\n",
            "\u001b[0m\n",
            "\u001b[0mTIS results for ensemble: [2^+]\n",
            "===============================\n",
            "\n",
            "+------------------------------------------------------+\n",
            "|Interfaces                                            |\n",
            "+----------+----------+----------+----------+----------+\n",
            "| Ensemble |   Left   |  Middle  |  Right   |  Detect  |\n",
            "+==========+==========+==========+==========+==========+\n",
            "|  [2^+]   | -0.9000  | -0.7000  |  1.0000  | -0.6000  |\n",
            "+----------+----------+----------+----------+----------+\n",
            "\n",
            "+-----------------------------------------------------+\n",
            "|Probabilities                                        |\n",
            "+----------+------------+------------+----------------+\n",
            "| Ensemble |   Pcross   |   Error    | Rel. error (%) |\n",
            "+==========+============+============+================+\n",
            "|  [2^+]   |  0.107045  |  0.007685  |    7.175936    |\n",
            "+----------+------------+------------+----------------+\n",
            "\n",
            "+---------------------------------------------------+\n",
            "|Path lengths                                       |\n",
            "+----------+------------+------------+--------------+\n",
            "| Ensemble |  Accepted  |    All     | All/Accepted |\n",
            "+==========+============+============+==============+\n",
            "|  [2^+]   | 609.796819 | 266.833583 |   0.437578   |\n",
            "+----------+------------+------------+--------------+\n",
            "\n",
            "+----------------------------------------------------------------------------------+\n",
            "|Efficiency                                                                        |\n",
            "+----------+------------+------------+------------------+-------------+------------+\n",
            "| Ensemble | TIS cycles |  Tot sim.  | Acceptance ratio | Correlation | Efficiency |\n",
            "+==========+============+============+==================+=============+============+\n",
            "|  [2^+]   |   20001    | 5.3369e+06 |     0.727864     | 12.346553   | 2.7482e+04 |\n",
            "+----------+------------+------------+------------------+-------------+------------+\u001b[0m\n",
            "\u001b[0m\n",
            "\u001b[0m\u001b[34mAnalysing ensemble 4 of 7\u001b[0m\n",
            "\u001b[0m\n",
            "\u001b[0mTIS results for ensemble: [3^+]\n",
            "===============================\n",
            "\n",
            "+------------------------------------------------------+\n",
            "|Interfaces                                            |\n",
            "+----------+----------+----------+----------+----------+\n",
            "| Ensemble |   Left   |  Middle  |  Right   |  Detect  |\n",
            "+==========+==========+==========+==========+==========+\n",
            "|  [3^+]   | -0.9000  | -0.6000  |  1.0000  | -0.5000  |\n",
            "+----------+----------+----------+----------+----------+\n",
            "\n",
            "+-----------------------------------------------------+\n",
            "|Probabilities                                        |\n",
            "+----------+------------+------------+----------------+\n",
            "| Ensemble |   Pcross   |   Error    | Rel. error (%) |\n",
            "+==========+============+============+================+\n",
            "|  [3^+]   |  0.110444  |  0.009251  |    8.376003    |\n",
            "+----------+------------+------------+----------------+\n",
            "\n",
            "+---------------------------------------------------+\n",
            "|Path lengths                                       |\n",
            "+----------+------------+------------+--------------+\n",
            "| Ensemble |  Accepted  |    All     | All/Accepted |\n",
            "+==========+============+============+==============+\n",
            "|  [3^+]   | 706.360800 | 301.036850 |   0.426180   |\n",
            "+----------+------------+------------+--------------+\n",
            "\n",
            "+----------------------------------------------------------------------------------+\n",
            "|Efficiency                                                                        |\n",
            "+----------+------------+------------+------------------+-------------+------------+\n",
            "| Ensemble | TIS cycles |  Tot sim.  | Acceptance ratio | Correlation | Efficiency |\n",
            "+==========+============+============+==================+=============+============+\n",
            "|  [3^+]   |   20001    | 6.0210e+06 |     0.686016     | 17.421170   | 4.2242e+04 |\n",
            "+----------+------------+------------+------------------+-------------+------------+\u001b[0m\n",
            "\u001b[0m\n",
            "\u001b[0m\u001b[34mAnalysing ensemble 5 of 7\u001b[0m\n",
            "\u001b[0m\n",
            "\u001b[0mTIS results for ensemble: [4^+]\n",
            "===============================\n",
            "\n",
            "+------------------------------------------------------+\n",
            "|Interfaces                                            |\n",
            "+----------+----------+----------+----------+----------+\n",
            "| Ensemble |   Left   |  Middle  |  Right   |  Detect  |\n",
            "+==========+==========+==========+==========+==========+\n",
            "|  [4^+]   | -0.9000  | -0.5000  |  1.0000  | -0.4000  |\n",
            "+----------+----------+----------+----------+----------+\n",
            "\n",
            "+-----------------------------------------------------+\n",
            "|Probabilities                                        |\n",
            "+----------+------------+------------+----------------+\n",
            "| Ensemble |   Pcross   |   Error    | Rel. error (%) |\n",
            "+==========+============+============+================+\n",
            "|  [4^+]   |  0.134793  |  0.010217  |    7.576325    |\n",
            "+----------+------------+------------+----------------+\n",
            "\n",
            "+---------------------------------------------------+\n",
            "|Path lengths                                       |\n",
            "+----------+------------+------------+--------------+\n",
            "| Ensemble |  Accepted  |    All     | All/Accepted |\n",
            "+==========+============+============+==============+\n",
            "|  [4^+]   | 817.049622 | 341.367365 |   0.417805   |\n",
            "+----------+------------+------------+--------------+\n",
            "\n",
            "+----------------------------------------------------------------------------------+\n",
            "|Efficiency                                                                        |\n",
            "+----------+------------+------------+------------------+-------------+------------+\n",
            "| Ensemble | TIS cycles |  Tot sim.  | Acceptance ratio | Correlation | Efficiency |\n",
            "+==========+============+============+==================+=============+============+\n",
            "|  [4^+]   |   20001    | 6.8277e+06 |     0.669867     | 17.886660   | 3.9191e+04 |\n",
            "+----------+------------+------------+------------------+-------------+------------+\u001b[0m\n",
            "\u001b[0m\n",
            "\u001b[0m\u001b[34mAnalysing ensemble 6 of 7\u001b[0m\n",
            "\u001b[0m\n",
            "\u001b[0mTIS results for ensemble: [5^+]\n",
            "===============================\n",
            "\n",
            "+------------------------------------------------------+\n",
            "|Interfaces                                            |\n",
            "+----------+----------+----------+----------+----------+\n",
            "| Ensemble |   Left   |  Middle  |  Right   |  Detect  |\n",
            "+==========+==========+==========+==========+==========+\n",
            "|  [5^+]   | -0.9000  | -0.4000  |  1.0000  | -0.3000  |\n",
            "+----------+----------+----------+----------+----------+\n",
            "\n",
            "+-----------------------------------------------------+\n",
            "|Probabilities                                        |\n",
            "+----------+------------+------------+----------------+\n",
            "| Ensemble |   Pcross   |   Error    | Rel. error (%) |\n",
            "+==========+============+============+================+\n",
            "|  [5^+]   |  0.185841  |  0.012666  |    6.825827    |\n",
            "+----------+------------+------------+----------------+\n",
            "\n",
            "+---------------------------------------------------+\n",
            "|Path lengths                                       |\n",
            "+----------+------------+------------+--------------+\n",
            "| Ensemble |  Accepted  |    All     | All/Accepted |\n",
            "+==========+============+============+==============+\n",
            "|  [5^+]   | 967.070871 | 388.239422 |   0.401459   |\n",
            "+----------+------------+------------+--------------+\n",
            "\n",
            "+----------------------------------------------------------------------------------+\n",
            "|Efficiency                                                                        |\n",
            "+----------+------------+------------+------------------+-------------+------------+\n",
            "| Ensemble | TIS cycles |  Tot sim.  | Acceptance ratio | Correlation | Efficiency |\n",
            "+==========+============+============+==================+=============+============+\n",
            "|  [5^+]   |   20001    | 7.7652e+06 |     0.654667     | 21.222734   | 3.6179e+04 |\n",
            "+----------+------------+------------+------------------+-------------+------------+\u001b[0m\n",
            "\u001b[0m\n",
            "\u001b[0m\u001b[34mAnalysing ensemble 7 of 7\u001b[0m\n",
            "\u001b[0m\n",
            "\u001b[0mTIS results for ensemble: [6^+]\n",
            "===============================\n",
            "\n",
            "+------------------------------------------------------+\n",
            "|Interfaces                                            |\n",
            "+----------+----------+----------+----------+----------+\n",
            "| Ensemble |   Left   |  Middle  |  Right   |  Detect  |\n",
            "+==========+==========+==========+==========+==========+\n",
            "|  [6^+]   | -0.9000  | -0.3000  |  1.0000  |  1.0000  |\n",
            "+----------+----------+----------+----------+----------+\n",
            "\n",
            "+-----------------------------------------------------+\n",
            "|Probabilities                                        |\n",
            "+----------+------------+------------+----------------+\n",
            "| Ensemble |   Pcross   |   Error    | Rel. error (%) |\n",
            "+==========+============+============+================+\n",
            "|  [6^+]   |  0.090095  |  0.008411  |    9.333818    |\n",
            "+----------+------------+------------+----------------+\n",
            "\n",
            "+---------------------------------------------------+\n",
            "|Path lengths                                       |\n",
            "+----------+------------+------------+--------------+\n",
            "| Ensemble |  Accepted  |    All     | All/Accepted |\n",
            "+==========+============+============+==============+\n",
            "|  [6^+]   | 1.1774e+03 | 447.538658 |   0.380100   |\n",
            "+----------+------------+------------+--------------+\n",
            "\n",
            "+----------------------------------------------------------------------------------+\n",
            "|Efficiency                                                                        |\n",
            "+----------+------------+------------+------------------+-------------+------------+\n",
            "| Ensemble | TIS cycles |  Tot sim.  | Acceptance ratio | Correlation | Efficiency |\n",
            "+==========+============+============+==================+=============+============+\n",
            "|  [6^+]   |   20001    | 8.9512e+06 |     0.609020     | 17.253082   | 7.7983e+04 |\n",
            "+----------+------------+------------+------------------+-------------+------------+\u001b[0m\n",
            "\u001b[0m\n",
            "\u001b[0m\u001b[32mOverall results\u001b[0m\n",
            "\u001b[0m\u001b[32m===============\u001b[0m\n",
            "\u001b[0m\n",
            "\u001b[0m\u001b[32mTIS Crossing probability: 1.035328505e-06\u001b[0m\n",
            "\u001b[0m\u001b[32m(Relative error: 18.684531690 %)\u001b[0m\n",
            "\u001b[0m\n",
            "\u001b[0m\u001b[34mReport created: report/tis-multiple_report.tex\u001b[0m\n",
            "\u001b[0m\u001b[34mReport created: report/tis-multiple_report.rst\u001b[0m\n",
            "\u001b[0m\u001b[34mReport created: report/tis-multiple_report.html\u001b[0m\n",
            "\u001b[0m\u001b[0m\n",
            "\u001b[0m\u001b[34mEnd of PyRETIS analysis execution.\u001b[0m\n",
            "\u001b[0m\u001b[0m\n",
            "\u001b[0mPyRETIS references:\n",
            "-------------------\n",
            "[1] A. Lervik, E. Riccardi and T. S. van Erp, J. Comput. Chem., 2017\n",
            "    doi: https://dx.doi.org/10.1002/jcc.24900\n",
            "[2] E. Riccardi, A. Lervik, S. Roet, O. Aarøen and T. S. van Erp,\n",
            "    J. Comput. Chem., 2019, doi: https://dx.doi.org/10.1002/jcc.26112\u001b[0m\n",
            "\u001b[0m\u001b[0m\n",
            "\u001b[0m\u001b[34mhttp://www.pyretis.org\u001b[0m\n",
            "\u001b[0m\u001b[0m/content\n"
          ],
          "name": "stdout"
        }
      ]
    },
    {
      "cell_type": "code",
      "metadata": {
        "colab": {
          "base_uri": "https://localhost:8080/"
        },
        "id": "lqF_N0B54_GH",
        "outputId": "e574c0b9-ae07-47fc-d16b-f31c73118c4d"
      },
      "source": [
        "!ls TIS-1D/report"
      ],
      "execution_count": 11,
      "outputs": [
        {
          "output_type": "stream",
          "text": [
            "001_lerror.png\t       003_prun.txt.gz\t      006_perror.png\n",
            "001_lpath.png\t       003_shoots.png\t      006_perror.txt.gz\n",
            "001_lpath.txt.gz       003_shoots_scaled.png  006_prun.png\n",
            "001_pcross.png\t       003_shoots.txt.gz      006_prun.txt.gz\n",
            "001_pcross.txt.gz      004_lpath.png\t      006_shoots.png\n",
            "001_perror.png\t       004_lpath.txt.gz       006_shoots_scaled.png\n",
            "001_perror.txt.gz      004_pcross.png\t      006_shoots.txt.gz\n",
            "001_prun.png\t       004_pcross.txt.gz      007_lpath.png\n",
            "001_prun.txt.gz        004_perror.png\t      007_lpath.txt.gz\n",
            "001_shoots.png\t       004_perror.txt.gz      007_pcross.png\n",
            "001_shoots_scaled.png  004_prun.png\t      007_pcross.txt.gz\n",
            "001_shoots.txt.gz      004_prun.txt.gz\t      007_perror.png\n",
            "002_lpath.png\t       004_shoots.png\t      007_perror.txt.gz\n",
            "002_lpath.txt.gz       004_shoots_scaled.png  007_prun.png\n",
            "002_pcross.png\t       004_shoots.txt.gz      007_prun.txt.gz\n",
            "002_pcross.txt.gz      005_lpath.png\t      007_shoots.png\n",
            "002_perror.png\t       005_lpath.txt.gz       007_shoots_scaled.png\n",
            "002_perror.txt.gz      005_pcross.png\t      007_shoots.txt.gz\n",
            "002_prun.png\t       005_pcross.txt.gz      matched-probability.png\n",
            "002_prun.txt.gz        005_perror.png\t      matched-probability.txt.gz\n",
            "002_shoots.png\t       005_perror.txt.gz      overall-err.png\n",
            "002_shoots_scaled.png  005_prun.png\t      overall-prun.png\n",
            "002_shoots.txt.gz      005_prun.txt.gz\t      overall-prun.txt.gz\n",
            "003_lpath.png\t       005_shoots.png\t      tis-multiple_report.html\n",
            "003_lpath.txt.gz       005_shoots_scaled.png  tis-multiple_report.rst\n",
            "003_pcross.png\t       005_shoots.txt.gz      tis-multiple_report.tex\n",
            "003_pcross.txt.gz      006_lpath.png\t      total-probability.png\n",
            "003_perror.png\t       006_lpath.txt.gz       total-probability.txt.gz\n",
            "003_perror.txt.gz      006_pcross.png\n",
            "003_prun.png\t       006_pcross.txt.gz\n"
          ],
          "name": "stdout"
        }
      ]
    },
    {
      "cell_type": "code",
      "metadata": {
        "colab": {
          "base_uri": "https://localhost:8080/",
          "height": 1000
        },
        "id": "k3Gc3aM55SgT",
        "outputId": "20f904c5-df5b-47dc-bec6-3080947ffcef"
      },
      "source": [
        "from IPython.display import Image, display\n",
        "display(Image('TIS-1D/report/matched-probability.png'))\n",
        "display(Image('TIS-1D/report/overall-err.png'))\n",
        "display(Image('TIS-1D/report/total-probability.png'))\n",
        "#display(Image('TIS-1D/report/001_lerror.png'))\n",
        "#display(Image('TIS-1D/report/001_lpath.png'))\n",
        "#display(Image('TIS-1D/report/001_pcross.png'))\n",
        "#display(Image('TIS-1D/report/001_perror.png'))\n",
        "#display(Image('TIS-1D/report/001_prun.png'))\n",
        "#display(Image('TIS-1D/report/001_shoots.png'))\n",
        "#display(Image('TIS-1D/report/001_shoots_scaled.png'))"
      ],
      "execution_count": 12,
      "outputs": [
        {
          "output_type": "display_data",
          "data": {
            "image/png": "[encoded data removed]",
            "text/plain": [
              "<IPython.core.display.Image object>"
            ]
          },
          "metadata": {
            "tags": []
          }
        },
        {
          "output_type": "display_data",
          "data": {
            "image/png": "[encoded data removed]",
            "text/plain": [
              "<IPython.core.display.Image object>"
            ]
          },
          "metadata": {
            "tags": []
          }
        },
        {
          "output_type": "display_data",
          "data": {
            "image/png": "[encoded data removed]",
            "text/plain": [
              "<IPython.core.display.Image object>"
            ]
          },
          "metadata": {
            "tags": []
          }
        }
      ]
    },
    {
      "cell_type": "markdown",
      "metadata": {
        "id": "1sGbzicf7j--"
      },
      "source": [
        "## Creating and running the initial flux simulation\n",
        "\n",
        "The initial flux simulation measure effective crossings with the first interface. In PyRETIS such a simulation is requested by selecting the md-flux task."
      ]
    },
    {
      "cell_type": "code",
      "metadata": {
        "colab": {
          "base_uri": "https://localhost:8080/"
        },
        "id": "PGOG1_zJ5l4g",
        "outputId": "c013f788-be1a-47e8-8885-8026b35fb9b9"
      },
      "source": [
        "%%writefile flux.rst\n",
        "MD flux simulation\n",
        "==================\n",
        "\n",
        "Simulation settings\n",
        "-------------------\n",
        "task = md-flux\n",
        "steps = 1000000\n",
        "interfaces = [-0.9]\n",
        "\n",
        "System settings\n",
        "---------------\n",
        "units = lj\n",
        "dimensions = 1\n",
        "temperature = 0.07\n",
        "\n",
        "Engine settings\n",
        "---------------\n",
        "class = Langevin\n",
        "timestep = 0.002\n",
        "gamma = 0.3\n",
        "high_friction = False\n",
        "seed = 0\n",
        "\n",
        "Particles\n",
        "---------\n",
        "position = {'file': 'initial.xyz'}\n",
        "velocity = {'generate': 'maxwell',\n",
        "            'momentum': False,\n",
        "            'seed': 0}\n",
        "mass = {'Ar': 1.0}\n",
        "name = ['Ar']\n",
        "type = [0]\n",
        "\n",
        "ForceField settings\n",
        "-------------------\n",
        "description = 1D double well potential\n",
        "\n",
        "Potential\n",
        "---------\n",
        "class = DoubleWell\n",
        "a = 1.0\n",
        "b = 2.0\n",
        "c = 0.0\n",
        "\n",
        "Orderparameter\n",
        "--------------\n",
        "class = Position\n",
        "dim = x\n",
        "index = 0\n",
        "periodic = False\n",
        "\n",
        "Output\n",
        "------\n",
        "backup = overwrite\n",
        "energy-file = 1000\n",
        "order-file = 1000\n",
        "cross-file = 1\n",
        "trajectory-file = -1"
      ],
      "execution_count": 13,
      "outputs": [
        {
          "output_type": "stream",
          "text": [
            "Writing flux.rst\n"
          ],
          "name": "stdout"
        }
      ]
    },
    {
      "cell_type": "markdown",
      "metadata": {
        "id": "yt3rLWTi8EdK"
      },
      "source": [
        "We also need an initial configuration file again."
      ]
    },
    {
      "cell_type": "code",
      "metadata": {
        "colab": {
          "base_uri": "https://localhost:8080/"
        },
        "id": "iozxYMS58Kfe",
        "outputId": "6419b748-1e33-4210-ddc0-c2095543a75f"
      },
      "source": [
        "%%writefile initial.xyz\n",
        "1\n",
        "\n",
        "Ar -1.0 0.0 0.0"
      ],
      "execution_count": 14,
      "outputs": [
        {
          "output_type": "stream",
          "text": [
            "Writing initial.xyz\n"
          ],
          "name": "stdout"
        }
      ]
    },
    {
      "cell_type": "code",
      "metadata": {
        "colab": {
          "base_uri": "https://localhost:8080/"
        },
        "id": "X0aeyW3z73I_",
        "outputId": "eaa91d94-d791-4c38-b0e4-472ec8afc5ab"
      },
      "source": [
        "!mkdir TIS-1D-flux/\n",
        "!mv flux.rst TIS-1D-flux/\n",
        "!mv initial.xyz TIS-1D-flux/\n",
        "!ls TIS-1D-flux/"
      ],
      "execution_count": 15,
      "outputs": [
        {
          "output_type": "stream",
          "text": [
            "flux.rst  initial.xyz\n"
          ],
          "name": "stdout"
        }
      ]
    },
    {
      "cell_type": "markdown",
      "metadata": {
        "id": "-JnuFusC8beN"
      },
      "source": [
        "The md-flux simulation can now be executed using:"
      ]
    },
    {
      "cell_type": "code",
      "metadata": {
        "colab": {
          "base_uri": "https://localhost:8080/"
        },
        "id": "4GD-XJaA8YIH",
        "outputId": "d976cc97-f6ec-4438-d71d-136a4fd36ed5"
      },
      "source": [
        "%cd TIS-1D-flux/\n",
        "#!pyretisrun -i flux.rst -p\n",
        "!cp ../TIS-1D/flux/* .\n",
        "%cd .."
      ],
      "execution_count": 16,
      "outputs": [
        {
          "output_type": "stream",
          "text": [
            "/content/TIS-1D-flux\n",
            "/content\n"
          ],
          "name": "stdout"
        }
      ]
    },
    {
      "cell_type": "markdown",
      "metadata": {
        "id": "Z11e2Qyl_HAu"
      },
      "source": [
        "## Analysing the md-flux results\n",
        "\n",
        "When the md-flux simulation has finished, we can analyse the results. PyRETIS will create a file, `out.rst`, which you can use for the analysis. "
      ]
    },
    {
      "cell_type": "code",
      "metadata": {
        "colab": {
          "base_uri": "https://localhost:8080/"
        },
        "id": "uKgOnJvO8nyo",
        "outputId": "8da1f9a9-0393-4394-fe52-dd51ffc3bdc1"
      },
      "source": [
        "%cd TIS-1D-flux/\n",
        "!pyretisanalyse -i out.rst\n",
        "%cd .."
      ],
      "execution_count": 17,
      "outputs": [
        {
          "output_type": "stream",
          "text": [
            "/content/TIS-1D-flux\n",
            "\u001b[36m\n",
            "  _______                                     ___________\n",
            " /   ___ \\         ___  ____  ____________   / __     __/\n",
            "/_/\\ \\_/ /_  __   / _ \\/ __/ /_  _/ / ___/  /_/ / // /\n",
            "   /  __  / / /  / /_)  _/    / // /\\ \\        / // /\n",
            "  / /   \\ \\/ /  / _  \\ /__   / // /__\\ \\    __/ // /__\n",
            " /_/    _\\  /  /_/ |_|___/  /_//_/_____/   /_________/\n",
            "       /___/\n",
            "\n",
            "                                                    Starting\n",
            "analysis tool!\n",
            "PyRETIS version: 2.5.0\n",
            "Python version: 3.7.11\n",
            "Running in directory: /content/TIS-1D-flux\n",
            "Report directory: /content/TIS-1D-flux/report\n",
            "Input file: out.rst\u001b[0m\n",
            "\u001b[0mReading input file \"out.rst\"\u001b[0m\n",
            "[WARNING]: Ignoring unknown \"exe-path\" in \"simulation\"\n",
            "\u001b[0m\u001b[0mCreated directory: \"/content/TIS-1D-flux/report\"\u001b[0m\n",
            "\u001b[0mSimulation task was: \"md-flux\"\u001b[0m\n",
            "\u001b[0m\n",
            "\u001b[0m\u001b[34mRunning analysis of a MD flux simulation...\u001b[0m\n",
            "\u001b[0m\n",
            "\u001b[0mResults from the MD flux analysis:\n",
            "==================================\n",
            "\n",
            "+----------------------------------------------------------------------------------------------------------------------+\n",
            "|Flux for interfaces                                                                                                   |\n",
            "+------+----------+--------------+------------+------------+----------+-----------+------------------+-----------------+\n",
            "| Int. | Position | Flux / units |   Error    | Rel. error |  Ncross  | Neffcross | Neffcross/Ncross | Steps per cross |\n",
            "+======+==========+==============+============+============+==========+===========+==================+=================+\n",
            "|  1   | -0.9000  |   0.254500   |  0.014290  |  0.056148  |   509    |   509     |     1.000000     |   1.9646e+03    |\n",
            "+------+----------+--------------+------------+------------+----------+-----------+------------------+-----------------+\n",
            "\n",
            "+-------------------------+\n",
            "|Cycles spent in state    |\n",
            "+--------------+----------+\n",
            "|    State     |  Cycles  |\n",
            "+==============+==========+\n",
            "|      A       |   805998 |\n",
            "+--------------+----------+\n",
            "|      B       |        0 |\n",
            "+--------------+----------+\n",
            "|  overall A   |  1000000 |\n",
            "+--------------+----------+\n",
            "|  overall B   |        0 |\n",
            "+--------------+----------+\n",
            "| Total cycles |  1000000 |\n",
            "+--------------+----------+\n",
            "\n",
            "+-------------------------------------------------------------------------+\n",
            "|Efficiency                                                               |\n",
            "+------------+------------+---------------+-----------------+-------------+\n",
            "| Interface  |    p_MD    | (1-p_MD)/p_MD | Efficiency time | Correlation |\n",
            "+============+============+===============+=================+=============+\n",
            "|     1      |  0.000509  |  1.9636e+03   |   3.1525e+03    |  1.605465   |\n",
            "+------------+------------+---------------+-----------------+-------------+\u001b[0m\n",
            "\u001b[0m\n",
            "\u001b[0m\n",
            "\u001b[0m\u001b[34mReport created: report/md_flux_report.tex\u001b[0m\n",
            "\u001b[0m\u001b[34mReport created: report/md_flux_report.rst\u001b[0m\n",
            "<string>:87: (ERROR/3) Error in \"image\" directive:\n",
            "1 argument(s) required, 0 supplied.\n",
            "\n",
            ".. image::\n",
            "   :width: 30%\n",
            "\n",
            "\n",
            "\u001b[0m\u001b[34mReport created: report/md_flux_report.html\u001b[0m\n",
            "\u001b[0m\u001b[0m\n",
            "\u001b[0m\u001b[34mEnd of PyRETIS analysis execution.\u001b[0m\n",
            "\u001b[0m\u001b[0m\n",
            "\u001b[0mPyRETIS references:\n",
            "-------------------\n",
            "[1] A. Lervik, E. Riccardi and T. S. van Erp, J. Comput. Chem., 2017\n",
            "    doi: https://dx.doi.org/10.1002/jcc.24900\n",
            "[2] E. Riccardi, A. Lervik, S. Roet, O. Aarøen and T. S. van Erp,\n",
            "    J. Comput. Chem., 2019, doi: https://dx.doi.org/10.1002/jcc.26112\u001b[0m\n",
            "\u001b[0m\u001b[0m\n",
            "\u001b[0m\u001b[34mhttp://www.pyretis.org\u001b[0m\n",
            "\u001b[0m\u001b[0m\u001b[0m/content\n"
          ],
          "name": "stdout"
        }
      ]
    },
    {
      "cell_type": "code",
      "metadata": {
        "colab": {
          "base_uri": "https://localhost:8080/"
        },
        "id": "FyqJWl99_dLj",
        "outputId": "6219ebd9-726b-4bfd-8501-cf78bc82e861"
      },
      "source": [
        "!ls TIS-1D-flux/report"
      ],
      "execution_count": 18,
      "outputs": [
        {
          "output_type": "stream",
          "text": [
            "ekinblock.png\t  etotdist.txt.gz      order.png\t   tempdist.png\n",
            "ekinblock.txt.gz  md_flux_report.html  runenergies.png\t   tempdist.txt.gz\n",
            "ekindist.png\t  md_flux_report.rst   runenergies.txt.gz  temperature.png\n",
            "ekindist.txt.gz   md_flux_report.tex   runflux_1.png\t   vpotblock.png\n",
            "energies.png\t  orderdist.png        runflux_1.txt.gz    vpotblock.txt.gz\n",
            "errflux_1.png\t  orderdist.txt.gz     runorder.png\t   vpotdist.png\n",
            "errflux_1.txt.gz  ordererror.png       runorder.txt.gz\t   vpotdist.txt.gz\n",
            "etotblock.png\t  ordererror.txt.gz    runtemperature.png\n",
            "etotblock.txt.gz  ordermsd.png\t       tempblock.png\n",
            "etotdist.png\t  ordermsd.txt.gz      tempblock.txt.gz\n"
          ],
          "name": "stdout"
        }
      ]
    },
    {
      "cell_type": "code",
      "metadata": {
        "colab": {
          "base_uri": "https://localhost:8080/",
          "height": 497
        },
        "id": "mRC5idjv08Tj",
        "outputId": "f6bcfd8d-50c5-4799-c320-b9978b21a54d"
      },
      "source": [
        "display(Image('TIS-1D-flux/report/runflux_1.png'))"
      ],
      "execution_count": 19,
      "outputs": [
        {
          "output_type": "display_data",
          "data": {
            "image/png": "[encoded data removed]",
            "text/plain": [
              "<IPython.core.display.Image object>"
            ]
          },
          "metadata": {
            "tags": []
          }
        }
      ]
    },
    {
      "cell_type": "code",
      "metadata": {
        "id": "VmxTDq4c05RL"
      },
      "source": [
        ""
      ],
      "execution_count": 20,
      "outputs": []
    }
  ]
}